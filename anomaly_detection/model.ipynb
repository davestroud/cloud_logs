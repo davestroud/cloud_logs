{
 "cells": [
  {
   "cell_type": "markdown",
   "metadata": {},
   "source": []
  },
  {
   "cell_type": "markdown",
   "metadata": {},
   "source": []
  },
  {
   "cell_type": "markdown",
   "metadata": {},
   "source": [
    "# Machine Learning Model"
   ]
  },
  {
   "cell_type": "code",
   "execution_count": 2,
   "metadata": {},
   "outputs": [],
   "source": [
    "import pandas as pd\n",
    "from sklearn.model_selection import train_test_split\n",
    "from sklearn.preprocessing import StandardScaler, OneHotEncoder\n",
    "from sklearn.compose import ColumnTransformer\n",
    "from sklearn.pipeline import Pipeline\n",
    "\n",
    "# Load the engineered logs\n",
    "logs_df = pd.read_csv(\"/Users/davidstroud/cloud_logs/anomaly_detection/engineered_logs_100k.csv\")\n",
    "\n",
    "# Select features and target\n",
    "features = ['hour', 'action_count', 'failed_actions_count', 'resource_type', 'event_type', 'action', 'region']\n",
    "target = 'failed_action'  # Using 'failed_action' as the target for simplicity in this example\n",
    "\n",
    "# Split data into train and test sets\n",
    "X_train, X_test, y_train, y_test = train_test_split(logs_df[features], logs_df[target], test_size=0.2, random_state=42)\n",
    "\n",
    "# Preprocessing pipeline\n",
    "numeric_features = ['hour', 'action_count', 'failed_actions_count']\n",
    "categorical_features = ['resource_type', 'event_type', 'action', 'region']\n",
    "\n",
    "# Create a column transformer with pipelines for numeric and categorical data\n",
    "preprocessor = ColumnTransformer(\n",
    "    transformers=[\n",
    "        ('num', StandardScaler(), numeric_features),\n",
    "        ('cat', OneHotEncoder(handle_unknown='ignore'), categorical_features)\n",
    "    ])\n",
    "\n",
    "# Apply preprocessing to training and test data\n",
    "X_train_processed = preprocessor.fit_transform(X_train)\n",
    "X_test_processed = preprocessor.transform(X_test)\n"
   ]
  },
  {
   "cell_type": "code",
   "execution_count": null,
   "metadata": {},
   "outputs": [],
   "source": []
  },
  {
   "cell_type": "code",
   "execution_count": 3,
   "metadata": {},
   "outputs": [
    {
     "name": "stdout",
     "output_type": "stream",
     "text": [
      "Classification Report:\n",
      "              precision    recall  f1-score   support\n",
      "\n",
      "           0       0.76      0.90      0.82     15222\n",
      "           1       0.23      0.10      0.14      4778\n",
      "\n",
      "    accuracy                           0.71     20000\n",
      "   macro avg       0.49      0.50      0.48     20000\n",
      "weighted avg       0.63      0.71      0.66     20000\n",
      "\n",
      "Confusion Matrix:\n",
      "[[13666  1556]\n",
      " [ 4318   460]]\n",
      "ROC AUC Score: 0.4970270607538086\n"
     ]
    }
   ],
   "source": [
    "from sklearn.ensemble import IsolationForest\n",
    "from sklearn.metrics import classification_report, roc_auc_score, confusion_matrix\n",
    "\n",
    "# Train Isolation Forest\n",
    "isolation_forest = IsolationForest(n_estimators=100, contamination=0.1, random_state=42)\n",
    "isolation_forest.fit(X_train_processed)\n",
    "\n",
    "# Predict on test set\n",
    "y_pred = isolation_forest.predict(X_test_processed)\n",
    "\n",
    "# Convert predictions to anomaly labels (1 for anomaly, 0 for normal)\n",
    "# Isolation Forest outputs -1 for anomalies and 1 for normal points, so we convert them\n",
    "y_pred = [1 if p == -1 else 0 for p in y_pred]\n",
    "\n",
    "# Evaluate model\n",
    "print(\"Classification Report:\")\n",
    "print(classification_report(y_test, y_pred))\n",
    "print(\"Confusion Matrix:\")\n",
    "print(confusion_matrix(y_test, y_pred))\n",
    "print(\"ROC AUC Score:\", roc_auc_score(y_test, y_pred))\n"
   ]
  },
  {
   "cell_type": "code",
   "execution_count": null,
   "metadata": {},
   "outputs": [],
   "source": []
  },
  {
   "cell_type": "markdown",
   "metadata": {},
   "source": [
    "# Deep Learning Model"
   ]
  },
  {
   "cell_type": "markdown",
   "metadata": {},
   "source": []
  }
 ],
 "metadata": {
  "kernelspec": {
   "display_name": "cloud_logs",
   "language": "python",
   "name": "python3"
  },
  "language_info": {
   "codemirror_mode": {
    "name": "ipython",
    "version": 3
   },
   "file_extension": ".py",
   "mimetype": "text/x-python",
   "name": "python",
   "nbconvert_exporter": "python",
   "pygments_lexer": "ipython3",
   "version": "3.11.9"
  }
 },
 "nbformat": 4,
 "nbformat_minor": 2
}
